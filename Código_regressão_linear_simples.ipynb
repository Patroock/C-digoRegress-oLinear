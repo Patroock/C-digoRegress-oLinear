{
  "nbformat": 4,
  "nbformat_minor": 0,
  "metadata": {
    "colab": {
      "name": "Código regressão linear simples.ipynb",
      "provenance": [],
      "authorship_tag": "ABX9TyPXx1+rl4KF4rgNxg8veSuG",
      "include_colab_link": true
    },
    "kernelspec": {
      "name": "python3",
      "display_name": "Python 3"
    },
    "language_info": {
      "name": "python"
    }
  },
  "cells": [
    {
      "cell_type": "markdown",
      "metadata": {
        "id": "view-in-github",
        "colab_type": "text"
      },
      "source": [
        "<a href=\"https://colab.research.google.com/github/Patroock/C-digoRegress-oLinear/blob/main/C%C3%B3digo_regress%C3%A3o_linear_simples.ipynb\" target=\"_parent\"><img src=\"https://colab.research.google.com/assets/colab-badge.svg\" alt=\"Open In Colab\"/></a>"
      ]
    },
    {
      "cell_type": "code",
      "execution_count": null,
      "metadata": {
        "colab": {
          "base_uri": "https://localhost:8080/",
          "height": 452
        },
        "id": "GROfyTd2lOP-",
        "outputId": "5cb91c1f-c51a-4f34-a1df-eb68908971cd"
      },
      "outputs": [
        {
          "output_type": "stream",
          "name": "stdout",
          "text": [
            "regressao.coef_ [0.70378037]\n",
            "regressao.intercept_ 10.457576087710088\n",
            "[11.16135646 12.56891719 15.38403867 18.19916014 20.31050124 21.71806198\n",
            " 24.53318345 27.34830493 29.45964603 32.2747675  35.08988898 36.49744971\n",
            " 37.90501045 40.01635155 42.12769266 44.23903376 35.08988898 35.08988898\n",
            " 36.49744971 37.20123008 38.60879082 38.60879082 38.60879082 40.72013192\n",
            " 39.31257119 40.01635155 42.12769266 40.72013192 41.42391229 42.12769266\n",
            " 42.83147303 43.53525339 45.6465945 ]\n",
            "31.570987134665096\n"
          ]
        },
        {
          "output_type": "display_data",
          "data": {
            "text/plain": [
              "<Figure size 432x288 with 1 Axes>"
            ],
            "image/png": "[encoded data removed]"
          },
          "metadata": {
            "needs_background": "light"
          }
        }
      ],
      "source": [
        "#Alunos: Patrick Alves Freitas\n",
        "#João Vitor Sponchiado\n",
        "#Natal Junio\n",
        "\n",
        "import pandas as pd\n",
        "import numpy as np\n",
        "from sklearn.linear_model import LinearRegression\n",
        "\n",
        "#porcentagem de redução no total de sólidos\n",
        "x = np.array([1, 3, 7, 11, 14, 16, 20, 24, 27, 31, 35, 37, 39, 42, 45, 48, 35, 35, 37, 38, 40, 40, 40, 43, 41, 42, 45, 43, 44, 45, 46, 47, 50])\n",
        "#porcentagem de redução na demanda de oxigênio quı́mico\n",
        "y = np.array([5, 11, 21, 17, 17, 29, 27, 25, 35, 30, 40, 32, 34, 32, 34, 37, 38, 34, 36, 38, 37, 36, 45, 39, 41, 40, 44, 37, 44, 46, 46, 49, 51])\n",
        "\n",
        "# x = np.array([3,30,36,41,50,7,31,36,42,11,31,37,42,15,32,38,43,18,33,39,44,27,33,39,45,29,34,39,46,30,36,40,447])\n",
        "# y = np.array([5,35,38,41,51,11,30,34,40,21,40,36,44,16,32,38,37,16,34,37,44,28,32,36,46,27,34,45,46,25,37,39,49])\n",
        "\n",
        "correlacao = np.corrcoef(x,y)\n",
        "x = x.reshape(-1, 1)\n",
        "from sklearn.linear_model import LinearRegression\n",
        "regressao = LinearRegression()\n",
        "regressao.fit(x,y)\n",
        "\n",
        "regressao.coef_\n",
        "\n",
        "regressao.intercept_\n",
        "\n",
        "print(f\"regressao.coef_ {regressao.coef_}\")\n",
        "print(f\"regressao.intercept_ {regressao.intercept_}\")\n",
        "print(regressao.predict(x))\n",
        "# A\n",
        "import matplotlib.pyplot as plt\n",
        "plt.scatter(x,y)\n",
        "plt.plot(x, regressao.predict(x), color = 'red')\n",
        "plt.title('Regressão linear simples'),\n",
        "plt.xlabel('redução no total de sólidos')\n",
        "plt.ylabel('redução na demanda de oxigênio quı́mico')\n",
        "\n",
        "# B\n",
        "previsao = regressao.predict(np.array(30).reshape(1,1))\n",
        "\n",
        "print(str(previsao[0]))"
      ]
    },
    {
      "cell_type": "code",
      "source": [
        ""
      ],
      "metadata": {
        "id": "HaZ2X-oCqgqQ"
      },
      "execution_count": null,
      "outputs": []
    }
  ]
}